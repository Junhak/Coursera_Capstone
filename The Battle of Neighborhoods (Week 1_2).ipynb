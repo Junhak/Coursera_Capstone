{
 "cells": [
  {
   "cell_type": "markdown",
   "metadata": {},
   "source": [
    "# Capstone Project - The Battle of the Neighborhoods (Week 1)\n",
    "### Applied Data Science Capstone by IBM/Coursera"
   ]
  },
  {
   "cell_type": "markdown",
   "metadata": {},
   "source": [
    "## Table of contents\n",
    "* [Introduction: Business Problem](#introduction)\n",
    "* [Data](#data)\n",
    "* [Methodology](#methodology)\n",
    "* [Analysis](#analysis)\n",
    "* [Results and Discussion](#results)\n",
    "* [Conclusion](#conclusion)"
   ]
  },
  {
   "cell_type": "markdown",
   "metadata": {},
   "source": [
    "## Introduction: Business Problem"
   ]
  },
  {
   "cell_type": "markdown",
   "metadata": {},
   "source": [
    "This project is for who is planning to open a Coffee House in Seoul , Korea.\n",
    "This project suggests the best locations for Coffee Houses in Seoul. \n",
    "Seoul is the capital of Korea with a population of 10M. \n",
    "\n",
    "Korea's coffee culture has developed rapidly over the past 20 years. The number of coffee shops has increased dramatically and is gaining huge popularity. Annual coffee consumption is also steadily increasing. According to a survey by the Hyundai Economic Research Institute, the number of coffee an adult drinks over a year continued to rise to 291 in 2015, 317 in 2016, 336 in 2017, and 353 in 2018.\n",
    "\n",
    "This report explores which neighborhoods of Seoul have the most as well as the best Coffee Houses. Also, this project answers the questions “Where should I open an Coffee House?” and “Where should I stay If I want a tasty coffee?”"
   ]
  },
  {
   "cell_type": "markdown",
   "metadata": {},
   "source": [
    "## Data"
   ]
  },
  {
   "cell_type": "markdown",
   "metadata": {},
   "source": [
    "* District of Seoul are obtained from https://en.wikipedia.org/wiki/List_of_districts_of_Seoul\n",
    "\n",
    "* Latitude and Longitude values are obtained by using \"geocoder\".\n",
    "\n",
    "* All data related to locations will be obtaine by using FourSquare API and Python Libraries."
   ]
  },
  {
   "cell_type": "code",
   "execution_count": 1,
   "metadata": {},
   "outputs": [],
   "source": [
    "import requests\n",
    "import pandas as pd\n",
    "from bs4 import BeautifulSoup\n",
    "#!conda install -c conda-forge geopy --yes\n",
    "import geocoder"
   ]
  },
  {
   "cell_type": "code",
   "execution_count": 2,
   "metadata": {},
   "outputs": [
    {
     "data": {
      "text/plain": [
       "<Response [200]>"
      ]
     },
     "execution_count": 2,
     "metadata": {},
     "output_type": "execute_result"
    }
   ],
   "source": [
    "wiki_link = 'https://en.wikipedia.org/wiki/List_of_districts_of_Seoul'\n",
    "headers = {'User-Agent': 'Mozilla/5.0 (Windows NT 10.0; Win64; x64; rv:64.0) Gecko/20100101 Firefox/64.0'}\n",
    "wiki_page = requests.get(wiki_link, headers = headers)\n",
    "wiki_page"
   ]
  },
  {
   "cell_type": "code",
   "execution_count": 3,
   "metadata": {},
   "outputs": [],
   "source": [
    "soup = BeautifulSoup(wiki_page.content, 'html.parser')\n",
    "table = soup.find('table', {'class':'wikitable sortable'}).tbody"
   ]
  },
  {
   "cell_type": "code",
   "execution_count": 4,
   "metadata": {},
   "outputs": [],
   "source": [
    "rows = table.find_all('tr')"
   ]
  },
  {
   "cell_type": "code",
   "execution_count": 5,
   "metadata": {},
   "outputs": [
    {
     "data": {
      "text/plain": [
       "['Name', 'Population', 'Area', 'Population density']"
      ]
     },
     "execution_count": 5,
     "metadata": {},
     "output_type": "execute_result"
    }
   ],
   "source": [
    "columns = [i.text.replace('\\n', '') for i in rows[0].find_all('th')]\n",
    "columns"
   ]
  },
  {
   "cell_type": "code",
   "execution_count": 6,
   "metadata": {},
   "outputs": [],
   "source": [
    "df_seoul = pd.DataFrame(columns = columns)"
   ]
  },
  {
   "cell_type": "code",
   "execution_count": 7,
   "metadata": {},
   "outputs": [],
   "source": [
    "for i in range(1, len(rows)):\n",
    "    tds = rows[i].find_all('td')\n",
    "    \n",
    "    if len(tds) == 7:\n",
    "        values = [tds[0].text, tds[1].text, tds[2].text.replace('\\n', ''.replace('\\xa0','')), tds[3].text, tds[4].text.replace('\\n', ''.replace('\\xa0','')), tds[5].text.replace('\\n', ''.replace('\\xa0','')), tds[6].text.replace('\\n', ''.replace('\\xa0',''))]\n",
    "    else:\n",
    "        values = [td.text.replace('\\n', '').replace('\\xa0','') for td in tds]\n",
    "        \n",
    "        df_seoul = df_seoul.append(pd.Series(values, index = columns), ignore_index = True)\n",
    "\n",
    "        df_seoul"
   ]
  },
  {
   "cell_type": "code",
   "execution_count": 8,
   "metadata": {},
   "outputs": [
    {
     "data": {
      "text/html": [
       "<div>\n",
       "<style scoped>\n",
       "    .dataframe tbody tr th:only-of-type {\n",
       "        vertical-align: middle;\n",
       "    }\n",
       "\n",
       "    .dataframe tbody tr th {\n",
       "        vertical-align: top;\n",
       "    }\n",
       "\n",
       "    .dataframe thead th {\n",
       "        text-align: right;\n",
       "    }\n",
       "</style>\n",
       "<table border=\"1\" class=\"dataframe\">\n",
       "  <thead>\n",
       "    <tr style=\"text-align: right;\">\n",
       "      <th></th>\n",
       "      <th>Name</th>\n",
       "      <th>Population</th>\n",
       "      <th>Area</th>\n",
       "      <th>Population density</th>\n",
       "    </tr>\n",
       "  </thead>\n",
       "  <tbody>\n",
       "    <tr>\n",
       "      <td>0</td>\n",
       "      <td>Dobong-gu (도봉구; 道峰區)</td>\n",
       "      <td>355,712</td>\n",
       "      <td>20.70km²</td>\n",
       "      <td>17184/km²</td>\n",
       "    </tr>\n",
       "    <tr>\n",
       "      <td>1</td>\n",
       "      <td>Dongdaemun-gu (동대문구; 東大門區)</td>\n",
       "      <td>376,319</td>\n",
       "      <td>14.21km²</td>\n",
       "      <td>26483/km²</td>\n",
       "    </tr>\n",
       "    <tr>\n",
       "      <td>2</td>\n",
       "      <td>Dongjak-gu (동작구; 銅雀區)</td>\n",
       "      <td>419,261</td>\n",
       "      <td>16.35km²</td>\n",
       "      <td>25643/km²</td>\n",
       "    </tr>\n",
       "    <tr>\n",
       "      <td>3</td>\n",
       "      <td>Eunpyeong-gu (은평구; 恩平區)</td>\n",
       "      <td>503,243</td>\n",
       "      <td>29.70km²</td>\n",
       "      <td>16944/km²</td>\n",
       "    </tr>\n",
       "    <tr>\n",
       "      <td>4</td>\n",
       "      <td>Gangbuk-gu (강북구; 江北區)</td>\n",
       "      <td>338,410</td>\n",
       "      <td>23.60km²</td>\n",
       "      <td>14339/km²</td>\n",
       "    </tr>\n",
       "  </tbody>\n",
       "</table>\n",
       "</div>"
      ],
      "text/plain": [
       "                         Name Population      Area Population density\n",
       "0        Dobong-gu (도봉구; 道峰區)    355,712  20.70km²          17184/km²\n",
       "1  Dongdaemun-gu (동대문구; 東大門區)    376,319  14.21km²          26483/km²\n",
       "2       Dongjak-gu (동작구; 銅雀區)    419,261  16.35km²          25643/km²\n",
       "3     Eunpyeong-gu (은평구; 恩平區)    503,243  29.70km²          16944/km²\n",
       "4       Gangbuk-gu (강북구; 江北區)    338,410  23.60km²          14339/km²"
      ]
     },
     "execution_count": 8,
     "metadata": {},
     "output_type": "execute_result"
    }
   ],
   "source": [
    "df_seoul.head()"
   ]
  },
  {
   "cell_type": "code",
   "execution_count": 9,
   "metadata": {},
   "outputs": [],
   "source": [
    "df_seoul['District'] = df_seoul.Name.str.split('(').str[0]\n",
    "df_seoul['District'] = df_seoul['District'].str.strip()"
   ]
  },
  {
   "cell_type": "code",
   "execution_count": 16,
   "metadata": {},
   "outputs": [
    {
     "data": {
      "text/html": [
       "<div>\n",
       "<style scoped>\n",
       "    .dataframe tbody tr th:only-of-type {\n",
       "        vertical-align: middle;\n",
       "    }\n",
       "\n",
       "    .dataframe tbody tr th {\n",
       "        vertical-align: top;\n",
       "    }\n",
       "\n",
       "    .dataframe thead th {\n",
       "        text-align: right;\n",
       "    }\n",
       "</style>\n",
       "<table border=\"1\" class=\"dataframe\">\n",
       "  <thead>\n",
       "    <tr style=\"text-align: right;\">\n",
       "      <th></th>\n",
       "      <th>Name</th>\n",
       "      <th>Population</th>\n",
       "      <th>Area</th>\n",
       "      <th>Population density</th>\n",
       "      <th>District</th>\n",
       "    </tr>\n",
       "  </thead>\n",
       "  <tbody>\n",
       "    <tr>\n",
       "      <td>20</td>\n",
       "      <td>Seongdong-gu (성동구; 城東區)</td>\n",
       "      <td>303,891</td>\n",
       "      <td>16.86km²</td>\n",
       "      <td>19364/km²</td>\n",
       "      <td>Seongdong-gu</td>\n",
       "    </tr>\n",
       "    <tr>\n",
       "      <td>21</td>\n",
       "      <td>Songpa-gu (송파구; 松坡區)</td>\n",
       "      <td>671,794</td>\n",
       "      <td>33.88km²</td>\n",
       "      <td>19829/km²</td>\n",
       "      <td>Songpa-gu</td>\n",
       "    </tr>\n",
       "    <tr>\n",
       "      <td>22</td>\n",
       "      <td>Yangcheon-gu (양천구; 陽川區)</td>\n",
       "      <td>490,708</td>\n",
       "      <td>17.40km²</td>\n",
       "      <td>28202/km²</td>\n",
       "      <td>Yangcheon-gu</td>\n",
       "    </tr>\n",
       "    <tr>\n",
       "      <td>23</td>\n",
       "      <td>Yeongdeungpo-gu (영등포구; 永登浦區)</td>\n",
       "      <td>421,436</td>\n",
       "      <td>24.53km²</td>\n",
       "      <td>17180/km²</td>\n",
       "      <td>Yeongdeungpo-gu</td>\n",
       "    </tr>\n",
       "    <tr>\n",
       "      <td>24</td>\n",
       "      <td>Yongsan-gu (용산구; 龍山區)</td>\n",
       "      <td>249,914</td>\n",
       "      <td>21.87km²</td>\n",
       "      <td>11427/km²</td>\n",
       "      <td>Yongsan-gu</td>\n",
       "    </tr>\n",
       "  </tbody>\n",
       "</table>\n",
       "</div>"
      ],
      "text/plain": [
       "                            Name Population      Area Population density  \\\n",
       "20       Seongdong-gu (성동구; 城東區)    303,891  16.86km²          19364/km²   \n",
       "21          Songpa-gu (송파구; 松坡區)    671,794  33.88km²          19829/km²   \n",
       "22       Yangcheon-gu (양천구; 陽川區)    490,708  17.40km²          28202/km²   \n",
       "23  Yeongdeungpo-gu (영등포구; 永登浦區)    421,436  24.53km²          17180/km²   \n",
       "24         Yongsan-gu (용산구; 龍山區)    249,914  21.87km²          11427/km²   \n",
       "\n",
       "           District  \n",
       "20     Seongdong-gu  \n",
       "21        Songpa-gu  \n",
       "22     Yangcheon-gu  \n",
       "23  Yeongdeungpo-gu  \n",
       "24       Yongsan-gu  "
      ]
     },
     "execution_count": 16,
     "metadata": {},
     "output_type": "execute_result"
    }
   ],
   "source": [
    "#data cleansing seoul delete\n",
    "df_seoul = df_seoul.drop([df_seoul.index[25]])#.head()\n",
    "df_seoul.tail()"
   ]
  },
  {
   "cell_type": "code",
   "execution_count": 17,
   "metadata": {},
   "outputs": [],
   "source": [
    "def get_latlng(arcgis_geocoder):\n",
    "    \n",
    "    lat_lng_coords = None\n",
    "    \n",
    "    while(lat_lng_coords is None):\n",
    "        g = geocoder.arcgis('{}, Seoul, Korea'.format(arcgis_geocoder))\n",
    "        lat_lng_coords = g.latlng\n",
    "    return lat_lng_coords"
   ]
  },
  {
   "cell_type": "code",
   "execution_count": 18,
   "metadata": {},
   "outputs": [],
   "source": [
    "districts = df_seoul['District']    \n",
    "coordinates = [get_latlng(districts) for districts in districts.tolist()]"
   ]
  },
  {
   "cell_type": "code",
   "execution_count": 19,
   "metadata": {},
   "outputs": [],
   "source": [
    "df_seoul_loc = df_seoul\n",
    "\n",
    "df_seoul_coordinates = pd.DataFrame(coordinates, columns = ['Latitude', 'Longitude'])\n",
    "df_seoul_loc['Latitude'] = df_seoul_coordinates['Latitude']\n",
    "df_seoul_loc['Longitude'] = df_seoul_coordinates['Longitude']"
   ]
  },
  {
   "cell_type": "code",
   "execution_count": 20,
   "metadata": {},
   "outputs": [],
   "source": [
    "df_seoul_loc.drop(columns=\"Name\", axis=1, inplace=True)\n",
    "df_seoul_loc.drop(columns=\"Population\", axis=1, inplace=True)\n",
    "df_seoul_loc.drop(columns=\"Population density\", axis=1, inplace=True)\n",
    "df_seoul_loc.drop(columns=\"Area\", axis=1, inplace=True)"
   ]
  },
  {
   "cell_type": "code",
   "execution_count": 21,
   "metadata": {},
   "outputs": [
    {
     "data": {
      "text/html": [
       "<div>\n",
       "<style scoped>\n",
       "    .dataframe tbody tr th:only-of-type {\n",
       "        vertical-align: middle;\n",
       "    }\n",
       "\n",
       "    .dataframe tbody tr th {\n",
       "        vertical-align: top;\n",
       "    }\n",
       "\n",
       "    .dataframe thead th {\n",
       "        text-align: right;\n",
       "    }\n",
       "</style>\n",
       "<table border=\"1\" class=\"dataframe\">\n",
       "  <thead>\n",
       "    <tr style=\"text-align: right;\">\n",
       "      <th></th>\n",
       "      <th>District</th>\n",
       "      <th>Latitude</th>\n",
       "      <th>Longitude</th>\n",
       "    </tr>\n",
       "  </thead>\n",
       "  <tbody>\n",
       "    <tr>\n",
       "      <td>0</td>\n",
       "      <td>Dobong-gu</td>\n",
       "      <td>37.65066</td>\n",
       "      <td>127.03011</td>\n",
       "    </tr>\n",
       "    <tr>\n",
       "      <td>1</td>\n",
       "      <td>Dongdaemun-gu</td>\n",
       "      <td>37.58189</td>\n",
       "      <td>127.05408</td>\n",
       "    </tr>\n",
       "    <tr>\n",
       "      <td>2</td>\n",
       "      <td>Dongjak-gu</td>\n",
       "      <td>37.50056</td>\n",
       "      <td>126.95149</td>\n",
       "    </tr>\n",
       "    <tr>\n",
       "      <td>3</td>\n",
       "      <td>Eunpyeong-gu</td>\n",
       "      <td>37.61846</td>\n",
       "      <td>126.92780</td>\n",
       "    </tr>\n",
       "    <tr>\n",
       "      <td>4</td>\n",
       "      <td>Gangbuk-gu</td>\n",
       "      <td>37.63490</td>\n",
       "      <td>127.02015</td>\n",
       "    </tr>\n",
       "  </tbody>\n",
       "</table>\n",
       "</div>"
      ],
      "text/plain": [
       "        District  Latitude  Longitude\n",
       "0      Dobong-gu  37.65066  127.03011\n",
       "1  Dongdaemun-gu  37.58189  127.05408\n",
       "2     Dongjak-gu  37.50056  126.95149\n",
       "3   Eunpyeong-gu  37.61846  126.92780\n",
       "4     Gangbuk-gu  37.63490  127.02015"
      ]
     },
     "execution_count": 21,
     "metadata": {},
     "output_type": "execute_result"
    }
   ],
   "source": [
    "df_seoul_loc.head()"
   ]
  },
  {
   "cell_type": "code",
   "execution_count": 22,
   "metadata": {},
   "outputs": [
    {
     "name": "stdout",
     "output_type": "stream",
     "text": [
      "Libraries imported\n"
     ]
    }
   ],
   "source": [
    "import numpy as np\n",
    "import json \n",
    "from geopy.geocoders import Nominatim \n",
    "\n",
    "import requests \n",
    "from pandas.io.json import json_normalize\n",
    "\n",
    "import matplotlib.pyplot as plt\n",
    "import matplotlib.cm as cm\n",
    "import matplotlib.colors as colors\n",
    "\n",
    "from sklearn.cluster import KMeans\n",
    "\n",
    "#!conda install -c conda-forge folium=0.5.0 --yes \n",
    "import folium\n",
    "\n",
    "print(\"Libraries imported\")"
   ]
  },
  {
   "cell_type": "code",
   "execution_count": 23,
   "metadata": {},
   "outputs": [
    {
     "name": "stdout",
     "output_type": "stream",
     "text": [
      "The geographical coordinates of Seoul are 37.5177, 127.0473.\n"
     ]
    }
   ],
   "source": [
    "from geopy.geocoders import Nominatim \n",
    "\n",
    "address = \"Gangnam-gu, Seoul\"\n",
    "\n",
    "geolocator = Nominatim(user_agent = \"Seoul_explorer\")\n",
    "\n",
    "location = geolocator.geocode(address)\n",
    "latitude = location.latitude\n",
    "longitude = location.longitude\n",
    "\n",
    "print(\"The geographical coordinates of Seoul are {}, {}.\".format(latitude, longitude))"
   ]
  },
  {
   "cell_type": "code",
   "execution_count": 24,
   "metadata": {},
   "outputs": [
    {
     "data": {
      "text/html": [
       "<div style=\"width:100%;\"><div style=\"position:relative;width:100%;height:0;padding-bottom:60%;\"><iframe src=\"about:blank\" style=\"position:absolute;width:100%;height:100%;left:0;top:0;border:none !important;\" data-html=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 onload=\"this.contentDocument.open();this.contentDocument.write(atob(this.getAttribute('data-html')));this.contentDocument.close();\" allowfullscreen webkitallowfullscreen mozallowfullscreen></iframe></div></div>"
      ],
      "text/plain": [
       "<folium.folium.Map at 0x7fa5f5c00350>"
      ]
     },
     "execution_count": 24,
     "metadata": {},
     "output_type": "execute_result"
    }
   ],
   "source": [
    "map_seoul = folium.Map(location=[latitude, longitude], zoom_start=10)\n",
    "\n",
    "for lat, lng, label in zip(df_seoul_loc[\"Latitude\"], df_seoul_loc[\"Longitude\"], df_seoul_loc[\"District\"]):\n",
    "    label = folium.Popup(label, parse_html=True)\n",
    "    folium.CircleMarker(\n",
    "        [lat, lng],\n",
    "        radius=25,\n",
    "        popup=label,\n",
    "        color='blue',\n",
    "        fill=True,\n",
    "        fill_color='#3186cc',\n",
    "        fill_opacity=0.3,\n",
    "        parse_html=False).add_to(map_seoul)  \n",
    "    \n",
    "map_seoul"
   ]
  },
  {
   "cell_type": "code",
   "execution_count": null,
   "metadata": {},
   "outputs": [],
   "source": []
  }
 ],
 "metadata": {
  "kernelspec": {
   "display_name": "Python 3",
   "language": "python",
   "name": "python3"
  },
  "language_info": {
   "codemirror_mode": {
    "name": "ipython",
    "version": 3
   },
   "file_extension": ".py",
   "mimetype": "text/x-python",
   "name": "python",
   "nbconvert_exporter": "python",
   "pygments_lexer": "ipython3",
   "version": "3.7.4"
  }
 },
 "nbformat": 4,
 "nbformat_minor": 2
}
